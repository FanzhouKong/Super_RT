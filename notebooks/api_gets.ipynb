{
 "cells": [
  {
   "cell_type": "code",
   "execution_count": 4,
   "metadata": {},
   "outputs": [
    {
     "name": "stdout",
     "output_type": "stream",
     "text": [
      "The autoreload extension is already loaded. To reload it, use:\n",
      "  %reload_ext autoreload\n"
     ]
    }
   ],
   "source": [
    "%load_ext autoreload\n",
    "%autoreload 2\n",
    "import numpy as np\n",
    "import pandas as pd\n",
    "import os\n",
    "from toolsets.file_io import save_df, read_df\n",
    "data_path = '/Users/fanzhoukong/Documents/GitHub/Libgen_data/masswiki'\n",
    "def format_method_string(input_string):\n",
    "    input_string = input_string.strip()\n",
    "    # Replace \" | \" with \"%20%7C%\"\n",
    "    replaced_string = input_string.replace(\" \", \"%20\")\n",
    "    replaced_string = replaced_string.replace(\"|\", \"%7C\")\n",
    "    # Replace spaces with \"%\"\n",
    "    \n",
    "    return replaced_string\n",
    "import requests\n",
    "import toolsets.chem_utils as cu\n",
    "def get_masswiki_data(method, splash, version='LCB2023'):\n",
    "    # Base URL\n",
    "    base_url = \"https://api.metabolomics.us/cis/compound/{}/{}/{}\".format(method, splash, version)\n",
    "    \n",
    "    # Headers with the API key\n",
    "    headers = {\n",
    "        \"x-api-key\": \"lcb-fzkong-PeLfQ8Iuaz4PHwoDtBsc46\"\n",
    "    }\n",
    "    \n",
    "    # Make the GET request\n",
    "    response = requests.get(base_url, headers=headers)\n",
    "    \n",
    "    # Check if the request was successful\n",
    "    if response.status_code == 200:\n",
    "        return response.json()  # Return the JSON response\n",
    "    else:\n",
    "        print ({\"error\": \"Request failed with status code {}\".format(response.status_code)})\n",
    "        return np.NAN\n",
    "\n",
    "import re\n",
    "def extract_smiles(input_string):\n",
    "    pattern = r'SMILES: \"(.*?)\"'\n",
    "    match = re.search(pattern, input_string)\n",
    "    if match:\n",
    "        return match.group(1)\n",
    "    else:\n",
    "        return np.nan\n",
    "from tqdm import tqdm\n",
    "def complete_metadata(hilic, method_long = '5m hilic premier | orbitrap | beh amide | negative', version = 'LCB2023'):\n",
    "    annotated = hilic[hilic['user_annotation-name'].notnull()]\n",
    "    annotated = annotated[['wiki_id', 'scan', 'rt', 'precursor_mz', 'charge','binbase-splash', 'user_annotation-name', 'key','library_search-identity_score' ]]\n",
    "    method = format_method_string(method_long)\n",
    "    for index, row in tqdm(annotated.iterrows(), total = len(annotated)):\n",
    "        splash = row['binbase-splash']\n",
    "        result = get_masswiki_data(method, splash, version)\n",
    "        if result:\n",
    "            if len(result[0]['associated_names'])>0:\n",
    "                smiles = extract_smiles(result[0]['associated_names'][0]['comment'])\n",
    "                msms = result[0]['msms_raw']\n",
    "                hidden = result[0]['hidden']\n",
    "                ms1_inte = result[0]['pre_cursors_intensity']\n",
    "                adduct = result[0]['preferred_adduct']\n",
    "                if smiles:\n",
    "                    annotated.loc[index, 'smiles'] = smiles\n",
    "                    annotated.loc[index, 'msms'] = msms\n",
    "                    annotated.loc[index, 'hidden'] = hidden\n",
    "                    annotated.loc[index, 'ms1_inte'] = ms1_inte\n",
    "                    annotated.loc[index, 'adduct'] = adduct\n",
    "    annotated['method']=method_long\n",
    "    return annotated"
   ]
  },
  {
   "cell_type": "code",
   "execution_count": 5,
   "metadata": {},
   "outputs": [],
   "source": [
    "c18_pos = pd.read_csv(os.path.join(data_path, 'c18_orbi_pos.csv'))\n",
    "c18_neg = pd.read_csv(os.path.join(data_path, 'c18_orbi_neg.csv'))"
   ]
  },
  {
   "cell_type": "code",
   "execution_count": 6,
   "metadata": {},
   "outputs": [],
   "source": [
    "from toolsets.search import string_search"
   ]
  },
  {
   "cell_type": "code",
   "execution_count": 7,
   "metadata": {},
   "outputs": [
    {
     "name": "stderr",
     "output_type": "stream",
     "text": [
      "  0%|          | 0/1780 [00:00<?, ?it/s]"
     ]
    },
    {
     "name": "stderr",
     "output_type": "stream",
     "text": [
      "100%|██████████| 1780/1780 [05:02<00:00,  5.88it/s] \n"
     ]
    }
   ],
   "source": [
    "c18_pos_meta = complete_metadata(c18_pos, method_long = '5m splash one premier | orbitrap | beh c18 | positive')"
   ]
  },
  {
   "cell_type": "code",
   "execution_count": 8,
   "metadata": {},
   "outputs": [
    {
     "name": "stderr",
     "output_type": "stream",
     "text": [
      "100%|██████████| 1509/1509 [04:18<00:00,  5.84it/s]\n"
     ]
    }
   ],
   "source": [
    "c18_neg_meta = complete_metadata(c18_neg, method_long = '5m splash one premier | orbitrap | beh c18 | negative')"
   ]
  },
  {
   "cell_type": "code",
   "execution_count": 9,
   "metadata": {},
   "outputs": [],
   "source": [
    "c18_all = pd.concat([c18_pos_meta, c18_neg_meta], ignore_index=True)"
   ]
  },
  {
   "cell_type": "code",
   "execution_count": 10,
   "metadata": {},
   "outputs": [
    {
     "data": {
      "text/html": [
       "<div>\n",
       "<style scoped>\n",
       "    .dataframe tbody tr th:only-of-type {\n",
       "        vertical-align: middle;\n",
       "    }\n",
       "\n",
       "    .dataframe tbody tr th {\n",
       "        vertical-align: top;\n",
       "    }\n",
       "\n",
       "    .dataframe thead th {\n",
       "        text-align: right;\n",
       "    }\n",
       "</style>\n",
       "<table border=\"1\" class=\"dataframe\">\n",
       "  <thead>\n",
       "    <tr style=\"text-align: right;\">\n",
       "      <th></th>\n",
       "      <th>wiki_id</th>\n",
       "      <th>scan</th>\n",
       "      <th>rt</th>\n",
       "      <th>precursor_mz</th>\n",
       "      <th>charge</th>\n",
       "      <th>binbase-splash</th>\n",
       "      <th>user_annotation-name</th>\n",
       "      <th>key</th>\n",
       "      <th>library_search-identity_score</th>\n",
       "      <th>smiles</th>\n",
       "      <th>msms</th>\n",
       "      <th>hidden</th>\n",
       "      <th>ms1_inte</th>\n",
       "      <th>adduct</th>\n",
       "      <th>method</th>\n",
       "    </tr>\n",
       "  </thead>\n",
       "  <tbody>\n",
       "    <tr>\n",
       "      <th>0</th>\n",
       "      <td>aYSUJ8A/WNJMTV4W</td>\n",
       "      <td>1</td>\n",
       "      <td>251.400000</td>\n",
       "      <td>947.879800</td>\n",
       "      <td>1</td>\n",
       "      <td>splash10-0002-6300009000-31dd6f8fee8a76f152a0</td>\n",
       "      <td>1_TG 18:1-21:2-18:1-d5</td>\n",
       "      <td>1</td>\n",
       "      <td>0.940749</td>\n",
       "      <td>[2H]C([2H])(OC(=O)CCCCCCCC=CCCCCCCCC)C([2H])(O...</td>\n",
       "      <td>67.054350:251807.000000 69.069950:199305.00000...</td>\n",
       "      <td>False</td>\n",
       "      <td>0.0</td>\n",
       "      <td>[M+NH4]+</td>\n",
       "      <td>5m splash one premier | orbitrap | beh c18 | p...</td>\n",
       "    </tr>\n",
       "    <tr>\n",
       "      <th>1</th>\n",
       "      <td>aYSUJ8A/6QML39WN</td>\n",
       "      <td>2</td>\n",
       "      <td>138.600000</td>\n",
       "      <td>766.678290</td>\n",
       "      <td>1</td>\n",
       "      <td>splash10-0006-0900000000-c07a35ed3ee1d6c25cf9</td>\n",
       "      <td>1_SM 20:1 (d18:1/20:1)-d9</td>\n",
       "      <td>2</td>\n",
       "      <td>0.757248</td>\n",
       "      <td>[2H]C([2H])([2H])[N+](CCOP(=O)([O-])OC[CH](N=C...</td>\n",
       "      <td>64.104000:12043.000000 66.116620:4521.000000 6...</td>\n",
       "      <td>False</td>\n",
       "      <td>0.0</td>\n",
       "      <td>[M+H]+</td>\n",
       "      <td>5m splash one premier | orbitrap | beh c18 | p...</td>\n",
       "    </tr>\n",
       "    <tr>\n",
       "      <th>2</th>\n",
       "      <td>aYSUJ8A/GQSUQ82R</td>\n",
       "      <td>3</td>\n",
       "      <td>12.600000</td>\n",
       "      <td>319.267070</td>\n",
       "      <td>1</td>\n",
       "      <td>splash10-00kr-9105000000-a38bc2632afcb3c80728</td>\n",
       "      <td>acylcarnitine, 10:0- D3</td>\n",
       "      <td>3</td>\n",
       "      <td>0.785778</td>\n",
       "      <td>[2H]C([2H])([2H])[N+](C)(C)CC(CC(=O)O)OC(=O)CC...</td>\n",
       "      <td>63.099770:65655.000000 69.070080:2148.000000 7...</td>\n",
       "      <td>False</td>\n",
       "      <td>0.0</td>\n",
       "      <td>[M+H]+</td>\n",
       "      <td>5m splash one premier | orbitrap | beh c18 | p...</td>\n",
       "    </tr>\n",
       "    <tr>\n",
       "      <th>3</th>\n",
       "      <td>aYSUJ8A/389CCTTR</td>\n",
       "      <td>4</td>\n",
       "      <td>170.400000</td>\n",
       "      <td>655.603180</td>\n",
       "      <td>1</td>\n",
       "      <td>splash10-00lr-6519000000-88a04fa0493c3930f681</td>\n",
       "      <td>1_17:0-20:3 DG-d5</td>\n",
       "      <td>4</td>\n",
       "      <td>0.949732</td>\n",
       "      <td>[2H]C([2H])(O)[C]([2H])(OC(=O)CCCCCCCCCC=CCC=C...</td>\n",
       "      <td>61.058770:19477.000000 67.054320:76147.000000 ...</td>\n",
       "      <td>False</td>\n",
       "      <td>0.0</td>\n",
       "      <td>[M+NH4]+</td>\n",
       "      <td>5m splash one premier | orbitrap | beh c18 | p...</td>\n",
       "    </tr>\n",
       "    <tr>\n",
       "      <th>4</th>\n",
       "      <td>aYSUJ8A/2W9WOA60</td>\n",
       "      <td>5</td>\n",
       "      <td>16.200000</td>\n",
       "      <td>341.279870</td>\n",
       "      <td>1</td>\n",
       "      <td>splash10-014i-0690000000-4e51f8e4594cd5f41b77</td>\n",
       "      <td>1_CUDA</td>\n",
       "      <td>5</td>\n",
       "      <td>0.942374</td>\n",
       "      <td>C1CCC(CC1)NC(=O)NCCCCCCCCCCCC(=O)O</td>\n",
       "      <td>68.584220:50929.000000 83.085400:309526.000000...</td>\n",
       "      <td>False</td>\n",
       "      <td>0.0</td>\n",
       "      <td>[M+H]+</td>\n",
       "      <td>5m splash one premier | orbitrap | beh c18 | p...</td>\n",
       "    </tr>\n",
       "    <tr>\n",
       "      <th>...</th>\n",
       "      <td>...</td>\n",
       "      <td>...</td>\n",
       "      <td>...</td>\n",
       "      <td>...</td>\n",
       "      <td>...</td>\n",
       "      <td>...</td>\n",
       "      <td>...</td>\n",
       "      <td>...</td>\n",
       "      <td>...</td>\n",
       "      <td>...</td>\n",
       "      <td>...</td>\n",
       "      <td>...</td>\n",
       "      <td>...</td>\n",
       "      <td>...</td>\n",
       "      <td>...</td>\n",
       "    </tr>\n",
       "    <tr>\n",
       "      <th>3284</th>\n",
       "      <td>aA9N54F/ZI550AQ3</td>\n",
       "      <td>16618</td>\n",
       "      <td>125.997952</td>\n",
       "      <td>661.528267</td>\n",
       "      <td>-1</td>\n",
       "      <td>splash10-03dl-3500009000-43e0f2fc3f4d5e5bd1ee</td>\n",
       "      <td>PE-Cer d34:0</td>\n",
       "      <td>16618</td>\n",
       "      <td>0.814259</td>\n",
       "      <td>CCCCCCCCCCCCCCCC(=O)NC(COP(=O)(O)OCCN)C(O)CCCC...</td>\n",
       "      <td>73.504677:22172.000000 78.953117:6580.000000 7...</td>\n",
       "      <td>False</td>\n",
       "      <td>1993218.0</td>\n",
       "      <td>[M-H]-</td>\n",
       "      <td>5m splash one premier | orbitrap | beh c18 | n...</td>\n",
       "    </tr>\n",
       "    <tr>\n",
       "      <th>3285</th>\n",
       "      <td>aA9N54F/16FFB09Y</td>\n",
       "      <td>16653</td>\n",
       "      <td>86.454934</td>\n",
       "      <td>736.491984</td>\n",
       "      <td>-1</td>\n",
       "      <td>splash10-002r-0180000900-27be6f05db5c907d749e</td>\n",
       "      <td>PE 18:2_18:3</td>\n",
       "      <td>16653</td>\n",
       "      <td>0.691011</td>\n",
       "      <td>CCC=CCC=CCC=CCCCCCCCC(=O)OC(COC(=O)CCCCCCCC=CC...</td>\n",
       "      <td>78.959068:13464.000000 81.833855:14360.000000 ...</td>\n",
       "      <td>False</td>\n",
       "      <td>781115.0</td>\n",
       "      <td>[M-H]-</td>\n",
       "      <td>5m splash one premier | orbitrap | beh c18 | n...</td>\n",
       "    </tr>\n",
       "    <tr>\n",
       "      <th>3286</th>\n",
       "      <td>aA9N54F/1R75NGBQ</td>\n",
       "      <td>16730</td>\n",
       "      <td>115.849657</td>\n",
       "      <td>999.624759</td>\n",
       "      <td>-1</td>\n",
       "      <td>splash10-004i-0092000000-e72c264c2a01a0da4397</td>\n",
       "      <td>DGDG 18:2_18:2</td>\n",
       "      <td>16730</td>\n",
       "      <td>0.672181</td>\n",
       "      <td>NaN</td>\n",
       "      <td>NaN</td>\n",
       "      <td>NaN</td>\n",
       "      <td>NaN</td>\n",
       "      <td>NaN</td>\n",
       "      <td>5m splash one premier | orbitrap | beh c18 | n...</td>\n",
       "    </tr>\n",
       "    <tr>\n",
       "      <th>3287</th>\n",
       "      <td>aA9N54F/G3B7PWVO</td>\n",
       "      <td>16774</td>\n",
       "      <td>232.457968</td>\n",
       "      <td>1406.013767</td>\n",
       "      <td>-1</td>\n",
       "      <td>splash10-0a4i-0262900000-1be80916a2cf594d3284</td>\n",
       "      <td>CL 16:0_18:0_16:0_18:1</td>\n",
       "      <td>16774</td>\n",
       "      <td>0.675722</td>\n",
       "      <td>NaN</td>\n",
       "      <td>NaN</td>\n",
       "      <td>NaN</td>\n",
       "      <td>NaN</td>\n",
       "      <td>NaN</td>\n",
       "      <td>5m splash one premier | orbitrap | beh c18 | n...</td>\n",
       "    </tr>\n",
       "    <tr>\n",
       "      <th>3288</th>\n",
       "      <td>aA9N54F/7XIV98OR</td>\n",
       "      <td>16781</td>\n",
       "      <td>233.939409</td>\n",
       "      <td>1458.046829</td>\n",
       "      <td>-1</td>\n",
       "      <td>splash10-0a59-0350900000-1c8ddb2efff54644b53f</td>\n",
       "      <td>CL 18:0_18:1_18:1_18:1</td>\n",
       "      <td>16781</td>\n",
       "      <td>0.661817</td>\n",
       "      <td>NaN</td>\n",
       "      <td>NaN</td>\n",
       "      <td>NaN</td>\n",
       "      <td>NaN</td>\n",
       "      <td>NaN</td>\n",
       "      <td>5m splash one premier | orbitrap | beh c18 | n...</td>\n",
       "    </tr>\n",
       "  </tbody>\n",
       "</table>\n",
       "<p>3289 rows × 15 columns</p>\n",
       "</div>"
      ],
      "text/plain": [
       "               wiki_id   scan          rt  precursor_mz  charge   \n",
       "0     aYSUJ8A/WNJMTV4W      1  251.400000    947.879800       1  \\\n",
       "1     aYSUJ8A/6QML39WN      2  138.600000    766.678290       1   \n",
       "2     aYSUJ8A/GQSUQ82R      3   12.600000    319.267070       1   \n",
       "3     aYSUJ8A/389CCTTR      4  170.400000    655.603180       1   \n",
       "4     aYSUJ8A/2W9WOA60      5   16.200000    341.279870       1   \n",
       "...                ...    ...         ...           ...     ...   \n",
       "3284  aA9N54F/ZI550AQ3  16618  125.997952    661.528267      -1   \n",
       "3285  aA9N54F/16FFB09Y  16653   86.454934    736.491984      -1   \n",
       "3286  aA9N54F/1R75NGBQ  16730  115.849657    999.624759      -1   \n",
       "3287  aA9N54F/G3B7PWVO  16774  232.457968   1406.013767      -1   \n",
       "3288  aA9N54F/7XIV98OR  16781  233.939409   1458.046829      -1   \n",
       "\n",
       "                                     binbase-splash   \n",
       "0     splash10-0002-6300009000-31dd6f8fee8a76f152a0  \\\n",
       "1     splash10-0006-0900000000-c07a35ed3ee1d6c25cf9   \n",
       "2     splash10-00kr-9105000000-a38bc2632afcb3c80728   \n",
       "3     splash10-00lr-6519000000-88a04fa0493c3930f681   \n",
       "4     splash10-014i-0690000000-4e51f8e4594cd5f41b77   \n",
       "...                                             ...   \n",
       "3284  splash10-03dl-3500009000-43e0f2fc3f4d5e5bd1ee   \n",
       "3285  splash10-002r-0180000900-27be6f05db5c907d749e   \n",
       "3286  splash10-004i-0092000000-e72c264c2a01a0da4397   \n",
       "3287  splash10-0a4i-0262900000-1be80916a2cf594d3284   \n",
       "3288  splash10-0a59-0350900000-1c8ddb2efff54644b53f   \n",
       "\n",
       "           user_annotation-name    key  library_search-identity_score   \n",
       "0        1_TG 18:1-21:2-18:1-d5      1                       0.940749  \\\n",
       "1     1_SM 20:1 (d18:1/20:1)-d9      2                       0.757248   \n",
       "2       acylcarnitine, 10:0- D3      3                       0.785778   \n",
       "3             1_17:0-20:3 DG-d5      4                       0.949732   \n",
       "4                        1_CUDA      5                       0.942374   \n",
       "...                         ...    ...                            ...   \n",
       "3284               PE-Cer d34:0  16618                       0.814259   \n",
       "3285               PE 18:2_18:3  16653                       0.691011   \n",
       "3286             DGDG 18:2_18:2  16730                       0.672181   \n",
       "3287     CL 16:0_18:0_16:0_18:1  16774                       0.675722   \n",
       "3288     CL 18:0_18:1_18:1_18:1  16781                       0.661817   \n",
       "\n",
       "                                                 smiles   \n",
       "0     [2H]C([2H])(OC(=O)CCCCCCCC=CCCCCCCCC)C([2H])(O...  \\\n",
       "1     [2H]C([2H])([2H])[N+](CCOP(=O)([O-])OC[CH](N=C...   \n",
       "2     [2H]C([2H])([2H])[N+](C)(C)CC(CC(=O)O)OC(=O)CC...   \n",
       "3     [2H]C([2H])(O)[C]([2H])(OC(=O)CCCCCCCCCC=CCC=C...   \n",
       "4                    C1CCC(CC1)NC(=O)NCCCCCCCCCCCC(=O)O   \n",
       "...                                                 ...   \n",
       "3284  CCCCCCCCCCCCCCCC(=O)NC(COP(=O)(O)OCCN)C(O)CCCC...   \n",
       "3285  CCC=CCC=CCC=CCCCCCCCC(=O)OC(COC(=O)CCCCCCCC=CC...   \n",
       "3286                                                NaN   \n",
       "3287                                                NaN   \n",
       "3288                                                NaN   \n",
       "\n",
       "                                                   msms hidden   ms1_inte   \n",
       "0     67.054350:251807.000000 69.069950:199305.00000...  False        0.0  \\\n",
       "1     64.104000:12043.000000 66.116620:4521.000000 6...  False        0.0   \n",
       "2     63.099770:65655.000000 69.070080:2148.000000 7...  False        0.0   \n",
       "3     61.058770:19477.000000 67.054320:76147.000000 ...  False        0.0   \n",
       "4     68.584220:50929.000000 83.085400:309526.000000...  False        0.0   \n",
       "...                                                 ...    ...        ...   \n",
       "3284  73.504677:22172.000000 78.953117:6580.000000 7...  False  1993218.0   \n",
       "3285  78.959068:13464.000000 81.833855:14360.000000 ...  False   781115.0   \n",
       "3286                                                NaN    NaN        NaN   \n",
       "3287                                                NaN    NaN        NaN   \n",
       "3288                                                NaN    NaN        NaN   \n",
       "\n",
       "        adduct                                             method  \n",
       "0     [M+NH4]+  5m splash one premier | orbitrap | beh c18 | p...  \n",
       "1       [M+H]+  5m splash one premier | orbitrap | beh c18 | p...  \n",
       "2       [M+H]+  5m splash one premier | orbitrap | beh c18 | p...  \n",
       "3     [M+NH4]+  5m splash one premier | orbitrap | beh c18 | p...  \n",
       "4       [M+H]+  5m splash one premier | orbitrap | beh c18 | p...  \n",
       "...        ...                                                ...  \n",
       "3284    [M-H]-  5m splash one premier | orbitrap | beh c18 | n...  \n",
       "3285    [M-H]-  5m splash one premier | orbitrap | beh c18 | n...  \n",
       "3286       NaN  5m splash one premier | orbitrap | beh c18 | n...  \n",
       "3287       NaN  5m splash one premier | orbitrap | beh c18 | n...  \n",
       "3288       NaN  5m splash one premier | orbitrap | beh c18 | n...  \n",
       "\n",
       "[3289 rows x 15 columns]"
      ]
     },
     "execution_count": 10,
     "metadata": {},
     "output_type": "execute_result"
    }
   ],
   "source": [
    "c18_all"
   ]
  },
  {
   "cell_type": "code",
   "execution_count": 12,
   "metadata": {},
   "outputs": [],
   "source": [
    "import toolsets.spectra_operations as so"
   ]
  },
  {
   "cell_type": "code",
   "execution_count": 13,
   "metadata": {},
   "outputs": [],
   "source": [
    "msms =[]\n",
    "for index, row in c18_all.iterrows():\n",
    "    msms.append(so.convert_lcb_to_arr(row['msms']))\n",
    "c18_all['msms']=msms"
   ]
  },
  {
   "cell_type": "code",
   "execution_count": 14,
   "metadata": {},
   "outputs": [
    {
     "name": "stdout",
     "output_type": "stream",
     "text": [
      "['msms']\n"
     ]
    },
    {
     "name": "stderr",
     "output_type": "stream",
     "text": [
      "100%|██████████| 3289/3289 [00:00<00:00, 24917.62it/s]\n"
     ]
    }
   ],
   "source": [
    "save_df(c18_all, os.path.join(data_path, 'c18_all_with_scores.csv'))"
   ]
  },
  {
   "cell_type": "code",
   "execution_count": 136,
   "metadata": {},
   "outputs": [
    {
     "data": {
      "text/plain": [
       "Index(['wiki_id', 'scan', 'rt', 'precursor_mz', 'charge', 'binbase-splash',\n",
       "       'binbase-name', 'binbase-adduct', 'entropy', 'entropy_quality',\n",
       "       'peak_number', 'normalized_rt', 'user_annotation-name',\n",
       "       'user_annotation-adduct', 'annotation_search-name',\n",
       "       'annotation_search-adduct', 'annotation_search-identity_score',\n",
       "       'annotation_search-fuzzy_score', 'library_search-name',\n",
       "       'library_search-adduct', 'library_search-identity_score',\n",
       "       'library_search-fuzzy_score', 'name', 'adduct', 'identity_score',\n",
       "       'annotation_method', 'fuzzy_score', 'key'],\n",
       "      dtype='object')"
      ]
     },
     "execution_count": 136,
     "metadata": {},
     "output_type": "execute_result"
    }
   ],
   "source": [
    "hilic_neg = pd.read_csv(os.path.join(data_path, 'hilic_orbi_neg.csv'))\n",
    "hilic_pos = pd.read_csv(os.path.join(data_path, 'hilic_orbi_pos.csv'))"
   ]
  },
  {
   "cell_type": "code",
   "execution_count": 169,
   "metadata": {},
   "outputs": [
    {
     "name": "stderr",
     "output_type": "stream",
     "text": [
      "  0%|          | 0/1788 [00:00<?, ?it/s]"
     ]
    },
    {
     "name": "stderr",
     "output_type": "stream",
     "text": [
      "100%|██████████| 1788/1788 [04:26<00:00,  6.70it/s]\n"
     ]
    }
   ],
   "source": [
    "hilic_neg_meta = complete_metadata(hilic_neg)"
   ]
  },
  {
   "cell_type": "code",
   "execution_count": 173,
   "metadata": {},
   "outputs": [],
   "source": [
    "msms =[]\n",
    "for index, row in hilic_neg_meta.iterrows():\n",
    "    msms.append(so.convert_lcb_to_arr(row['msms']))\n",
    "hilic_neg_meta['msms']=msms\n",
    "        "
   ]
  },
  {
   "cell_type": "code",
   "execution_count": 177,
   "metadata": {},
   "outputs": [
    {
     "name": "stdout",
     "output_type": "stream",
     "text": [
      "['msms']\n"
     ]
    },
    {
     "name": "stderr",
     "output_type": "stream",
     "text": [
      "100%|██████████| 1788/1788 [00:00<00:00, 23769.34it/s]\n"
     ]
    }
   ],
   "source": [
    "save_df(hilic_neg_meta, os.path.join(data_path, 'hilic_orbi_neg_meta.csv'))"
   ]
  },
  {
   "cell_type": "code",
   "execution_count": 179,
   "metadata": {},
   "outputs": [
    {
     "name": "stderr",
     "output_type": "stream",
     "text": [
      "100%|██████████| 3250/3250 [08:24<00:00,  6.44it/s]\n"
     ]
    }
   ],
   "source": [
    "hilic_pos_meta = complete_metadata(hilic_pos, method_long = '5m hilic premier | orbitrap | beh amide | positive')"
   ]
  },
  {
   "cell_type": "code",
   "execution_count": 180,
   "metadata": {},
   "outputs": [],
   "source": [
    "msms =[]\n",
    "for index, row in hilic_pos_meta.iterrows():\n",
    "    msms.append(so.convert_lcb_to_arr(row['msms']))\n",
    "# hilic_pos_meta['msms']=msms"
   ]
  },
  {
   "cell_type": "code",
   "execution_count": 182,
   "metadata": {},
   "outputs": [],
   "source": [
    "hilic_pos_meta['msms']=msms"
   ]
  },
  {
   "cell_type": "code",
   "execution_count": 183,
   "metadata": {},
   "outputs": [
    {
     "name": "stdout",
     "output_type": "stream",
     "text": [
      "['msms']\n"
     ]
    },
    {
     "name": "stderr",
     "output_type": "stream",
     "text": [
      "100%|██████████| 3250/3250 [00:00<00:00, 18489.99it/s]\n"
     ]
    }
   ],
   "source": [
    "save_df(hilic_pos_meta, os.path.join(data_path, 'hilic_pos_meta.csv'))"
   ]
  },
  {
   "cell_type": "code",
   "execution_count": 184,
   "metadata": {},
   "outputs": [],
   "source": [
    "hilic_all = pd.concat([hilic_neg_meta, hilic_pos_meta], ignore_index=True)"
   ]
  },
  {
   "cell_type": "code",
   "execution_count": 185,
   "metadata": {},
   "outputs": [
    {
     "name": "stdout",
     "output_type": "stream",
     "text": [
      "['msms']\n"
     ]
    },
    {
     "name": "stderr",
     "output_type": "stream",
     "text": [
      "100%|██████████| 5038/5038 [00:00<00:00, 17017.46it/s]\n"
     ]
    }
   ],
   "source": [
    "save_df(hilic_all, os.path.join(data_path, 'hilic_all_meta.csv'))   "
   ]
  }
 ],
 "metadata": {
  "kernelspec": {
   "display_name": "alphapept_env",
   "language": "python",
   "name": "alphapept_env"
  },
  "language_info": {
   "codemirror_mode": {
    "name": "ipython",
    "version": 3
   },
   "file_extension": ".py",
   "mimetype": "text/x-python",
   "name": "python",
   "nbconvert_exporter": "python",
   "pygments_lexer": "ipython3",
   "version": "3.8.13"
  }
 },
 "nbformat": 4,
 "nbformat_minor": 2
}
